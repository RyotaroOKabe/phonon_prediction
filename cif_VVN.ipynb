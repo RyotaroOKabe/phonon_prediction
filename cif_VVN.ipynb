{
  "cells": [
    {
      "attachments": {},
      "cell_type": "markdown",
      "metadata": {
        "id": "_v7BmDsQgutC"
      },
      "source": [
        "## Predicting $\\Gamma$-phonon with VVN given CIF files\n",
        "### Getting started"
      ]
    },
    {
      "cell_type": "code",
      "execution_count": 1,
      "metadata": {},
      "outputs": [],
      "source": [
        "import os\n",
        "import numpy as np\n",
        "import matplotlib.pyplot as plt\n",
        "import matplotlib as mpl\n",
        "import torch\n",
        "from torch_geometric.loader import DataLoader\n",
        "import pandas as pd\n",
        "from ase.visualize.plot import plot_atoms\n",
        "from ase.io import read\n",
        "from utils.utils_data import generate_data_dict\n",
        "from utils.utils_model import GraphNetwork_VVN\n",
        "from utils.utils_train import load_model\n",
        "from utils.utils_plot import generate_dataframe, plot_gphonon\n",
        "from utils.utils_qpts import get_qpts\n",
        "from utils.helpers import sub\n",
        "from config_file import pretrained_model_dict, palette\n",
        "torch.set_default_dtype(torch.float64)\n",
        "device = 'cuda' if torch.cuda.is_available() else 'cpu'\n",
        "color_set = ['g', 'y', 'r']\n",
        "colors = dict(zip(color_set, palette[:len(color_set)]))\n",
        "cmap = mpl.colors.LinearSegmentedColormap.from_list('cmap', [palette[k] for k in [0,2,1]])"
      ]
    },
    {
      "attachments": {},
      "cell_type": "markdown",
      "metadata": {},
      "source": [
        "###     Model Parameter"
      ]
    },
    {
      "cell_type": "code",
      "execution_count": 2,
      "metadata": {},
      "outputs": [],
      "source": [
        "option = 'vvn' # use kMVN model\n",
        "descriptor = 'mass' # use mass as descriptor\n",
        "use_pretrained = True\n",
        "pretrained_name = pretrained_model_dict[option] # pretrained model uses 'mass' as descriptor\n",
        "r_max = 4.0 # cutoff radius (we used 4.0 Angstrom in the paper)\n",
        "factor = 1000   # factor to scale the predicted band gap (do not need to change)"
      ]
    },
    {
      "attachments": {},
      "cell_type": "markdown",
      "metadata": {},
      "source": [
        "### Data preparation\n",
        "We search cif files in cif_folder, and load them with high-symmetry momentum path suggested by SeekPath. "
      ]
    },
    {
      "cell_type": "code",
      "execution_count": 3,
      "metadata": {},
      "outputs": [
        {
          "name": "stderr",
          "output_type": "stream",
          "text": [
            "/home/rokabe/anaconda3/envs/phonon/lib/python3.9/site-packages/seekpath/hpkot/__init__.py:286: EdgeCaseWarning: hR lattice, but sqrt(3)a almost equal to sqrt(2)c\n",
            "  warnings.warn(\n",
            "/home/rokabe/anaconda3/envs/phonon/lib/python3.9/site-packages/seekpath/hpkot/__init__.py:352: EdgeCaseWarning: aP lattice, but the k_alpha3 angle is almost equal to 90 degrees\n",
            "  warnings.warn(\n",
            "/home/rokabe/anaconda3/envs/phonon/lib/python3.9/site-packages/seekpath/hpkot/__init__.py:357: EdgeCaseWarning: aP lattice, but the k_beta3 angle is almost equal to 90 degrees\n",
            "  warnings.warn(\n",
            "/home/rokabe/anaconda3/envs/phonon/lib/python3.9/site-packages/seekpath/hpkot/__init__.py:362: EdgeCaseWarning: aP lattice, but the k_gamma3 angle is almost equal to 90 degrees\n",
            "  warnings.warn(\n",
            "  0%|          | 0/5 [00:00<?, ?it/s]/data1/rokabe/phonon/phonon_prediction/utils/utils_data.py:267: UserWarning: To copy construct from a tensor, it is recommended to use sourceTensor.clone().detach() or sourceTensor.clone().detach().requires_grad_(True), rather than torch.tensor(sourceTensor).\n",
            "  'edge_shift': torch.tensor(edge_shift, dtype = torch.float64), 'edge_vec': torch.tensor(edge_vec, dtype = torch.float64),\n",
            "100%|██████████| 5/5 [00:00<00:00, 94.72it/s]\n"
          ]
        }
      ],
      "source": [
        "cif_folder = './cif_folder'\n",
        "cif_files = sorted([f for f in os.listdir(cif_folder) if f.endswith('.cif')])\n",
        "data = pd.DataFrame({})\n",
        "for cif_file in cif_files:\n",
        "    d = dict()\n",
        "    atoms = read(os.path.join(cif_folder, cif_file))\n",
        "    material_id = cif_file.replace('.cif', '')\n",
        "    numb = len(atoms)\n",
        "\n",
        "    qpts_dict = get_qpts(atoms)\n",
        "    qpts = np.array(qpts_dict['qpts'])\n",
        "    qticks = qpts_dict['qticks']\n",
        "    d['id'] = material_id\n",
        "    d['structure'] = [atoms]\n",
        "    d['qpts'] = [qpts]\n",
        "    d['qticks'] = [qticks]\n",
        "    d['real_band'] = [np.zeros((len(qpts), 3*numb))]    # Since we do not have band structure data, we set it to zero matrix of shape (len(qpts), 3*numb)\n",
        "    dfn = pd.DataFrame(data = d)\n",
        "    data = pd.concat([data, dfn], ignore_index = True)\n",
        "\n",
        "data_dict = generate_data_dict(data, r_max, descriptor=descriptor, option=option, factor=factor)"
      ]
    },
    {
      "cell_type": "code",
      "execution_count": 4,
      "metadata": {},
      "outputs": [
        {
          "data": {
            "text/html": [
              "<div>\n",
              "<style scoped>\n",
              "    .dataframe tbody tr th:only-of-type {\n",
              "        vertical-align: middle;\n",
              "    }\n",
              "\n",
              "    .dataframe tbody tr th {\n",
              "        vertical-align: top;\n",
              "    }\n",
              "\n",
              "    .dataframe thead th {\n",
              "        text-align: right;\n",
              "    }\n",
              "</style>\n",
              "<table border=\"1\" class=\"dataframe\">\n",
              "  <thead>\n",
              "    <tr style=\"text-align: right;\">\n",
              "      <th></th>\n",
              "      <th>id</th>\n",
              "      <th>structure</th>\n",
              "      <th>qpts</th>\n",
              "      <th>qticks</th>\n",
              "      <th>real_band</th>\n",
              "    </tr>\n",
              "  </thead>\n",
              "  <tbody>\n",
              "    <tr>\n",
              "      <th>0</th>\n",
              "      <td>mp-149</td>\n",
              "      <td>(Atom('Si', [0.0, 0.0, 0.0], index=0), Atom('S...</td>\n",
              "      <td>[[0.0, 0.0, 0.0], [0.029411764705882353, 0.029...</td>\n",
              "      <td>[\\Gamma, , , , , , , , , , , , , , , , , T, H_...</td>\n",
              "      <td>[[0.0, 0.0, 0.0, 0.0, 0.0, 0.0, 0.0, 0.0, 0.0,...</td>\n",
              "    </tr>\n",
              "    <tr>\n",
              "      <th>1</th>\n",
              "      <td>mp-2059</td>\n",
              "      <td>(Atom('Nb', [0.0, 0.0, 8.8542772787448], index...</td>\n",
              "      <td>[[0.0, 0.0, 0.0], [0.05555555555555555, 0.0, 0...</td>\n",
              "      <td>[\\Gamma, , , , , , , , , X, Y, , , , , , , , ,...</td>\n",
              "      <td>[[0.0, 0.0, 0.0, 0.0, 0.0, 0.0, 0.0, 0.0, 0.0,...</td>\n",
              "    </tr>\n",
              "    <tr>\n",
              "      <th>2</th>\n",
              "      <td>mp-2534</td>\n",
              "      <td>(Atom('Ga', [0.0, 0.0, 0.0], index=0), Atom('G...</td>\n",
              "      <td>[[0.0, 0.0, 0.0], [0.029411764705882353, 0.029...</td>\n",
              "      <td>[\\Gamma, , , , , , , , , , , , , , , , , T, H_...</td>\n",
              "      <td>[[0.0, 0.0, 0.0, 0.0, 0.0, 0.0, 0.0, 0.0, 0.0,...</td>\n",
              "    </tr>\n",
              "    <tr>\n",
              "      <th>3</th>\n",
              "      <td>mp-30</td>\n",
              "      <td>(Atom('Cu', [0.0, 0.0, 0.0], index=0), Atom('C...</td>\n",
              "      <td>[[0.0, 0.0, 0.0], [0.0, 0.05555555555555555, 0...</td>\n",
              "      <td>[\\Gamma, , , , , , , , , X, , , , , , , , , M,...</td>\n",
              "      <td>[[0.0, 0.0, 0.0, 0.0, 0.0, 0.0, 0.0, 0.0, 0.0,...</td>\n",
              "    </tr>\n",
              "    <tr>\n",
              "      <th>4</th>\n",
              "      <td>mp-7577</td>\n",
              "      <td>(Atom('Co', [0.639511351248549, 0.639511351248...</td>\n",
              "      <td>[[0.0, 0.0, 0.0], [0.029411764705882353, 0.029...</td>\n",
              "      <td>[\\Gamma, , , , , , , , , , , , , , , , , T, H_...</td>\n",
              "      <td>[[0.0, 0.0, 0.0, 0.0, 0.0, 0.0, 0.0, 0.0, 0.0,...</td>\n",
              "    </tr>\n",
              "  </tbody>\n",
              "</table>\n",
              "</div>"
            ],
            "text/plain": [
              "        id                                          structure  \\\n",
              "0   mp-149  (Atom('Si', [0.0, 0.0, 0.0], index=0), Atom('S...   \n",
              "1  mp-2059  (Atom('Nb', [0.0, 0.0, 8.8542772787448], index...   \n",
              "2  mp-2534  (Atom('Ga', [0.0, 0.0, 0.0], index=0), Atom('G...   \n",
              "3    mp-30  (Atom('Cu', [0.0, 0.0, 0.0], index=0), Atom('C...   \n",
              "4  mp-7577  (Atom('Co', [0.639511351248549, 0.639511351248...   \n",
              "\n",
              "                                                qpts  \\\n",
              "0  [[0.0, 0.0, 0.0], [0.029411764705882353, 0.029...   \n",
              "1  [[0.0, 0.0, 0.0], [0.05555555555555555, 0.0, 0...   \n",
              "2  [[0.0, 0.0, 0.0], [0.029411764705882353, 0.029...   \n",
              "3  [[0.0, 0.0, 0.0], [0.0, 0.05555555555555555, 0...   \n",
              "4  [[0.0, 0.0, 0.0], [0.029411764705882353, 0.029...   \n",
              "\n",
              "                                              qticks  \\\n",
              "0  [\\Gamma, , , , , , , , , , , , , , , , , T, H_...   \n",
              "1  [\\Gamma, , , , , , , , , X, Y, , , , , , , , ,...   \n",
              "2  [\\Gamma, , , , , , , , , , , , , , , , , T, H_...   \n",
              "3  [\\Gamma, , , , , , , , , X, , , , , , , , , M,...   \n",
              "4  [\\Gamma, , , , , , , , , , , , , , , , , T, H_...   \n",
              "\n",
              "                                           real_band  \n",
              "0  [[0.0, 0.0, 0.0, 0.0, 0.0, 0.0, 0.0, 0.0, 0.0,...  \n",
              "1  [[0.0, 0.0, 0.0, 0.0, 0.0, 0.0, 0.0, 0.0, 0.0,...  \n",
              "2  [[0.0, 0.0, 0.0, 0.0, 0.0, 0.0, 0.0, 0.0, 0.0,...  \n",
              "3  [[0.0, 0.0, 0.0, 0.0, 0.0, 0.0, 0.0, 0.0, 0.0,...  \n",
              "4  [[0.0, 0.0, 0.0, 0.0, 0.0, 0.0, 0.0, 0.0, 0.0,...  "
            ]
          },
          "execution_count": 4,
          "metadata": {},
          "output_type": "execute_result"
        }
      ],
      "source": [
        "# Review the data\n",
        "data"
      ]
    },
    {
      "attachments": {},
      "cell_type": "markdown",
      "metadata": {},
      "source": [
        "### Transform the data into the input data format. \n",
        "Get the test data with the proper format. "
      ]
    },
    {
      "cell_type": "code",
      "execution_count": 5,
      "metadata": {},
      "outputs": [],
      "source": [
        "te_num = len(data_dict)\n",
        "idx_te = range(te_num)\n",
        "data_set = torch.utils.data.Subset(list(data_dict.values()), idx_te)\n",
        "te_set = torch.utils.data.Subset(data_set, idx_te)\n",
        "te_loader = DataLoader(te_set, batch_size = 1)"
      ]
    },
    {
      "attachments": {},
      "cell_type": "markdown",
      "metadata": {},
      "source": [
        "### Load pre-trained model\n",
        "Load the pre-trained model from the archive. Our code automatically load the hyperparameters and the learned weights from the .torch file. "
      ]
    },
    {
      "cell_type": "code",
      "execution_count": 6,
      "metadata": {},
      "outputs": [
        {
          "name": "stdout",
          "output_type": "stream",
          "text": [
            "Loading model from: ./models/241026-180553.torch\n"
          ]
        },
        {
          "name": "stderr",
          "output_type": "stream",
          "text": [
            "/home/rokabe/anaconda3/envs/phonon/lib/python3.9/site-packages/torch/jit/_check.py:172: UserWarning: The TorchScript type system doesn't support instance-level annotations on empty non-base types in `__init__`. Instead, either 1) use a type annotation in the class body, or 2) wrap the type in `torch.jit.Attribute`.\n",
            "  warnings.warn(\"The TorchScript type system doesn't support \"\n"
          ]
        },
        {
          "name": "stdout",
          "output_type": "stream",
          "text": [
            "number of parameters:  250328\n"
          ]
        }
      ],
      "source": [
        "\n",
        "model_name = pretrained_name # model name (load from pretrained model)\n",
        "save_name = f'./models/{model_name}'   \n",
        "model_file = save_name + '.torch'\n",
        "model, conf_dict, history, s0 = load_model(GraphNetwork_VVN, model_file, device)\n",
        "num_params = sum(p.numel() for p in model.parameters() if p.requires_grad)\n",
        "print('number of parameters: ', num_params)"
      ]
    },
    {
      "attachments": {},
      "cell_type": "markdown",
      "metadata": {
        "id": "5kpYlnpwEFW3"
      },
      "source": [
        "### Predict the phonon band structure\n",
        "We use the pre-trained model to predict phonon of the given cif files. "
      ]
    },
    {
      "cell_type": "code",
      "execution_count": 7,
      "metadata": {},
      "outputs": [
        {
          "name": "stderr",
          "output_type": "stream",
          "text": [
            "  0%|          | 0/5 [00:00<?, ?it/s]/data1/rokabe/phonon/phonon_prediction/utils/utils_plot.py:168: FutureWarning: The behavior of DataFrame concatenation with empty or all-NA entries is deprecated. In a future version, this will no longer exclude empty or all-NA columns when determining the result dtypes. To retain the old behavior, exclude the relevant entries before the concat operation.\n",
            "  df = pd.concat([df, df0], ignore_index=True)\n",
            "100%|██████████| 5/5 [00:02<00:00,  1.83it/s]\n"
          ]
        }
      ],
      "source": [
        "# Generate Data Loader and then Data Frame\n",
        "df_te = generate_dataframe(model, te_loader, None, device, option, factor)  "
      ]
    },
    {
      "cell_type": "code",
      "execution_count": 8,
      "metadata": {},
      "outputs": [
        {
          "data": {
            "text/plain": [
              "Text(0.5, 1.0, '[mp-149] Si₈: $\\\\Gamma$-phonon')"
            ]
          },
          "execution_count": 8,
          "metadata": {},
          "output_type": "execute_result"
        },
        {
          "data": {
            "image/png": "[encoded data removed]",
            "text/plain": [
              "<Figure size 600x600 with 1 Axes>"
            ]
          },
          "metadata": {},
          "output_type": "display_data"
        },
        {
          "data": {
            "image/png": "[encoded data removed]",
            "text/plain": [
              "<Figure size 200x600 with 1 Axes>"
            ]
          },
          "metadata": {},
          "output_type": "display_data"
        }
      ],
      "source": [
        "# Set the index for which structure to plot from the dataframe\n",
        "idx_out = 0  #TODO: change this index to plot a different structure (0~len(data)-1)\n",
        "\n",
        "# [0] Load the structure and other data for the selected material\n",
        "row_data = data.iloc[idx_out]  # Get the row for the selected structure in the data dataframe\n",
        "material_id = row_data['id']  # Extract the material ID\n",
        "struct = row_data['structure']  # Get the structure of the material from the dataframe\n",
        "row_df = df_te[df_te['id'] == material_id]  # Get the row for the selected structure in the test set\n",
        "pred = row_df['pred'].item()  # Extract the predicted band structure\n",
        "real = None  # Set real data to None if not available\n",
        "symbols = np.unique(list(struct.symbols))  # Get unique atomic symbols from the structure\n",
        "formula = struct.get_chemical_formula().translate(sub)  # Get the chemical formula of the structure\n",
        "numb = len(struct)  # Get the number of atoms in the structure\n",
        "z = dict(zip(symbols, range(numb)))  # Create a mapping from atomic symbols to indices\n",
        "\n",
        "# [1] Create a plot of the atomic structure using matplotlib\n",
        "fig, ax = plt.subplots(figsize=(6,6))\n",
        "norm = plt.Normalize(vmin=0, vmax=numb-1)  # Normalize the color map for atoms\n",
        "color = [mpl.colors.to_hex(k) for k in cmap(norm([z[j] for j in list(struct.symbols)]))]  # Assign colors based on atomic symbols\n",
        "plot_atoms(struct, ax, radii=0.25, colors=color, rotation=('30x,30y,0z'))  # Plot the atoms with radii and rotation\n",
        "ax.set_xlabel(r'$x_1\\ (\\AA)$')  # Set x-axis label with LaTeX formatting for Angstroms\n",
        "ax.set_ylabel(r'$x_2\\ (\\AA)$')  # Set y-axis label with LaTeX formatting\n",
        "ax.set_title(f\"[{material_id}] {formula}: crystal structure\")  \n",
        "\n",
        "# [2] Plot the predicted phonon band structure\n",
        "# Plot the predicted band structure with custom function\n",
        "fig, ax = plt.subplots(figsize=(2,6))\n",
        "plot_gphonon(ax, real, pred, palette[-1], lwidth=0.8, plot_real=False, ylabel=True)  # Plot prediction without real data\n",
        "ax.set_title(f\"[{material_id}] {formula}: $\\Gamma$-phonon\")  \n"
      ]
    }
  ],
  "metadata": {
    "accelerator": "GPU",
    "colab": {
      "authorship_tag": "ABX9TyP9WdY8pU0J3fdzaTpnaMJ8",
      "collapsed_sections": [],
      "include_colab_link": true,
      "name": "phononDoS_colab.ipynb",
      "provenance": []
    },
    "kernelspec": {
      "display_name": "Python 3.9.13 ('pdos': conda)",
      "language": "python",
      "name": "python3"
    },
    "language_info": {
      "codemirror_mode": {
        "name": "ipython",
        "version": 3
      },
      "file_extension": ".py",
      "mimetype": "text/x-python",
      "name": "python",
      "nbconvert_exporter": "python",
      "pygments_lexer": "ipython3",
      "version": "3.9.13"
    },
    "vscode": {
      "interpreter": {
        "hash": "e1f4bc6f35d515ca6a525bb4b11c3080afe8136d3216b199fcb3aa4a51b71c9c"
      }
    }
  },
  "nbformat": 4,
  "nbformat_minor": 0
}
